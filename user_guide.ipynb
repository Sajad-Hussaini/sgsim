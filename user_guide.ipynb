{
 "cells": [
  {
   "cell_type": "markdown",
   "metadata": {},
   "source": [
    "# SGSIM User Guide\n",
    "\n",
    "Welcome to this interactive tutorial for getting started with SGSIM, a Python package designed for stochastic ground motion simulation! In this Jupyter Notebook, you will be guided through the key steps to:  \n",
    "- Load a target real earthquake motion.\n",
    "- Build and calibrate a stochastic model.\n",
    "- Simulate synthetic ground motions.\n",
    "- Visualize and analyze the results.\n",
    "\n",
    "Each section includes detailed explanations and executable code cells. Feel free to modify parameters (such as file paths or simulation counts) to explore and experiment.  \n",
    "**Prerequisites**: Ensure you have `sgsim` installed and an accelerogram file (e.g., `Northridge.AT2`) ready."
   ]
  },
  {
   "cell_type": "markdown",
   "metadata": {
    "vscode": {
     "languageId": "plaintext"
    }
   },
   "source": [
    "## Step 1: Import Libraries and Load Real Motion\n",
    "\n",
    "First, we’ll import the necessary `sgsim` components and load a real earthquake motion from a file. This motion will serve as the target for our stochastic model.\n",
    "\n",
    "- Replace the `file_path` with the location of your `.AT2` file (e.g., from the PEER NGA or ESM database).\n",
    "- The `source` parameter specifies the file format (`'nga'` for NGA-style files, etc.).\n",
    "- We’ll trim the motion to focus on the specified energy range (0.1% to 99.9%) to avoid flat tails."
   ]
  },
  {
   "cell_type": "code",
   "execution_count": null,
   "metadata": {},
   "outputs": [],
   "source": [
    "import time\n",
    "from sgsim import StochasticModel, Motion, calibrate, ModelPlot, functions\n",
    "\n",
    "# Update this path to your accelerogram file\n",
    "file_path = r'C:\\path\\to\\Northridge.AT2'  # Example: r\"C:\\Users\\Me\\Documents\\Northridge.AT2\"\n",
    "source = 'nga'\n",
    "\n",
    "# Load and prepare the real motion\n",
    "real_motion = Motion.from_file(file_path, source)\n",
    "real_motion.trim(option='energy', value=(0.001, 0.999))\n",
    "\n",
    "# Optional: Uncomment to apply a bandpass filter (e.g., 0.1–25 Hz)\n",
    "# real_motion.filter(bandpass_freqs=(0.1, 25.0))\n",
    "\n",
    "print(\"Real motion loaded with\", real_motion.npts, \"points and a time step of\", real_motion.dt, \"seconds.\")"
   ]
  },
  {
   "cell_type": "markdown",
   "metadata": {},
   "source": [
    "## Step 2: Initialize the Stochastic Model\n",
    "\n",
    "Next, we’ll create a stochastic model to match the real motion. SGSIM uses parameters like:\n",
    "- `npts` and `dt`: Match the real motion’s time series properties.\n",
    "- `modulating`: Defines temporal non-stationarity and energy content (e.g., `beta_dual` for two strong phases).\n",
    "- `upper_frequency`, `upper_damping`, `lower_frequency`, and `lower_damping` defines spectral non-stationarity and frequency content \n",
    "- Frequency and damping functions: Set to `linear` here, but you can explore `exponential`.\n",
    "\n",
    "This model will generate synthetic motions based on these settings."
   ]
  },
  {
   "cell_type": "code",
   "execution_count": null,
   "metadata": {},
   "outputs": [],
   "source": [
    "# Initialize the stochastic model\n",
    "model = StochasticModel(npts=real_motion.npts, dt=real_motion.dt, \n",
    "                        modulating=functions.beta_dual,\n",
    "                        upper_frequency=functions.linear, upper_damping=functions.linear,\n",
    "                        lower_frequency=functions.linear, lower_damping=functions.linear)\n",
    "\n",
    "print(\"Stochastic model initialized with\", model.npts, \"points.\")"
   ]
  },
  {
   "cell_type": "markdown",
   "metadata": {},
   "source": [
    "## Step 3: Calibrate the Model\n",
    "\n",
    "Now, we’ll calibrate the model to match the real motion’s characteristics. Calibration adjusts:\n",
    "- Modulation (envelope).\n",
    "- Frequency and damping parameters.\n",
    "\n",
    "We’ll use a sequential scheme (`modulating`, `frequency`, `damping`) and time the process. Note the order of calibration."
   ]
  },
  {
   "cell_type": "code",
   "execution_count": null,
   "metadata": {},
   "outputs": [],
   "source": [
    "start = time.perf_counter()\n",
    "scheme = ['modulating', 'frequency', 'damping']\n",
    "for func in scheme:\n",
    "    calibrate(func, model, real_motion, initial_guess=None, lower_bounds=None, upper_bounds=None)\n",
    "\n",
    "end = time.perf_counter()\n",
    "print(f\"\\nModel calibration completed in {end - start:.1f} seconds.\")"
   ]
  },
  {
   "cell_type": "markdown",
   "metadata": {},
   "source": [
    "## Step 4: Simulate Ground Motions\n",
    "\n",
    "With the model calibrated, we’ll simulate synthetic ground motions. You can:\n",
    "- View / save the calibrated parameters with `parameters_summary()`.\n",
    "- Generate `n` simulations (try changing `n` to 10 or 50!).\n",
    "\n",
    "Simulated data (acceleration, velocity, etc.) will be stored in `model.ac`, `model.vel`, etc."
   ]
  },
  {
   "cell_type": "code",
   "execution_count": null,
   "metadata": {},
   "outputs": [],
   "source": [
    "# Summary of calibrated parameters with an option to save them in a txt file\n",
    "model.parameters_summary(filename=r\"C:\\path\\to\\model_params.txt\")\n",
    "\n",
    "# Simulate 25 ground motions (adjust n as desired)\n",
    "model.simulate(n=25)\n",
    "print(f\"Simulated {model.ac.shape[0]} motions.\")"
   ]
  },
  {
   "cell_type": "markdown",
   "metadata": {},
   "source": [
    "## Step 5: Analyze Simulated Motions\n",
    "\n",
    "We’ll create a `Motion` object from the simulations to access properties like Fourier spectra (`fas`) or response spectra (`sa`).  \n",
    "You can also save results as columns to CSV files (update the paths to your preferred locations)."
   ]
  },
  {
   "cell_type": "code",
   "execution_count": null,
   "metadata": {},
   "outputs": [],
   "source": [
    "# Create simulated motion object\n",
    "sim_motion = Motion.from_model(model)\n",
    "\n",
    "# Optional: Save simulation results (update paths)\n",
    "sim_motion.save_simulations(filename=r\"C:\\path\\to\\simulated_spectra.csv\", x_var=\"tp\", y_vars=[\"sa\", \"sv\", \"sd\"])\n",
    "sim_motion.save_simulations(filename=r\"C:\\path\\to\\simulated_motions.csv\", x_var=\"t\", y_vars=[\"ac\", \"vel\", \"disp\"])\n",
    "\n",
    "print(\"Simulated motion object created. Access properties like sim_motion.sa or sim_motion.fas.\")"
   ]
  },
  {
   "cell_type": "markdown",
   "metadata": {},
   "source": [
    "## Step 6: Plot Results\n",
    "\n",
    "Finally, let’s visualize the results using `ModelPlot`. This compares real and simulated motions with:\n",
    "- Time series (acceleration, velocity, displacement).\n",
    "- Cumulative energy, Fourier spectra, and response spectra.\n",
    "- Error metrics (e.g., `mzc`, `mle`).\n",
    "\n",
    "Plots will display inline below each cell. Adjust `config` using `dict` of matplotlib rcparams (e.g., `'figure.figsize': (18/2.54, 12/2.54)`) for customization."
   ]
  },
  {
   "cell_type": "code",
   "execution_count": null,
   "metadata": {},
   "outputs": [],
   "source": [
    "# Initialize plotting tool\n",
    "mp = ModelPlot(model, sim_motion, real_motion)\n",
    "config = {'figure.dpi': 100}\n",
    "\n",
    "# Plot time series\n",
    "mp.plot_motions(0, -1, config=config)  # Shows inline"
   ]
  },
  {
   "cell_type": "code",
   "execution_count": null,
   "metadata": {},
   "outputs": [],
   "source": [
    "# Plot additional metrics\n",
    "mp.plot_ce(config=config)  # Cumulative energy\n",
    "mp.plot_fas(config=config)  # Fourier amplitude spectrum\n",
    "mp.plot_spectra(spectrum='sa', config=config)  # Response spectrum (Sa)\n",
    "mp.plot_feature(feature='mzc', config=config)  # Mean zero-crossing rate\n",
    "mp.plot_feature(feature='pmnm', config=config)  # Mean zero-crossing rate"
   ]
  },
  {
   "cell_type": "markdown",
   "metadata": {},
   "source": [
    "## Wrap-Up\n",
    "\n",
    "You’ve successfully loaded real motion data, calibrated a stochastic model, simulated synthetic ground motions, and visualized the results—all within this notebook!  \n",
    "If you have any questions or need assistance, feel free to contact me at hussaini.smsajad@gmail.com, with \"SGSIM\" in the subject line.  \n",
    "You can continue experimenting by:  \n",
    "- Changing the input file or number of simulations.\n",
    "- Tweaking plot configurations.\n",
    "- Exploring other SGSIM features.\n",
    "\n",
    "Save this notebook to keep your work!"
   ]
  }
 ],
 "metadata": {
  "kernelspec": {
   "display_name": ".venv",
   "language": "python",
   "name": "python3"
  },
  "language_info": {
   "codemirror_mode": {
    "name": "ipython",
    "version": 3
   },
   "file_extension": ".py",
   "mimetype": "text/x-python",
   "name": "python",
   "nbconvert_exporter": "python",
   "pygments_lexer": "ipython3",
   "version": "3.12.8"
  }
 },
 "nbformat": 4,
 "nbformat_minor": 2
}
